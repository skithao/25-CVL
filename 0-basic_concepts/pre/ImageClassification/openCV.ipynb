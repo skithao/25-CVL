{
 "cells": [
  {
   "cell_type": "code",
   "execution_count": null,
   "metadata": {},
   "outputs": [],
   "source": [
    "import cv2\n",
    "import numpy as np\n",
    "\n",
    "# 读取原始图像\n",
    "image = cv2.imread('damaged_image.jpg')\n",
    "# 创建掩膜，这里假设用白色矩形标记要修复的区域\n",
    "mask = np.zeros(image.shape[:2], dtype=np.uint8)\n",
    "cv2.rectangle(mask, (100, 100), (300, 300), 255, -1)\n",
    "\n",
    "# 使用inpaint函数进行修复，采用Telea算法\n",
    "repaired_image = cv2.inpaint(image, mask, 3, cv2.INPAINT_TELEA)\n",
    "\n",
    "# 显示原始图像、掩膜和修复后的图像\n",
    "cv2.imshow('Original Image', image)\n",
    "cv2.imshow('Mask', mask)\n",
    "cv2.imshow('Repaired Image', repaired_image)\n",
    "cv2.waitKey(0)\n",
    "cv2.destroyAllWindows()\n",
    "\n",
    "# 保存修复后的图像\n",
    "cv2.imwrite('repaired_image.jpg', repaired_image)"
   ]
  }
 ],
 "metadata": {
  "kernelspec": {
   "display_name": "cv",
   "language": "python",
   "name": "python3"
  },
  "language_info": {
   "codemirror_mode": {
    "name": "ipython",
    "version": 3
   },
   "file_extension": ".py",
   "mimetype": "text/x-python",
   "name": "python",
   "nbconvert_exporter": "python",
   "pygments_lexer": "ipython3",
   "version": "3.10.16"
  }
 },
 "nbformat": 4,
 "nbformat_minor": 2
}
